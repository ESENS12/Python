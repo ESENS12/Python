{
 "cells": [
  {
   "cell_type": "code",
   "execution_count": null,
   "metadata": {},
   "outputs": [],
   "source": [
    "# N Review Crwaler, 구조는 최대한 간결하게 id[] , document[text], label[부정:0 , 긍정:1] 로 한다.\n",
    "# url sample\n",
    "#https://pcmap.place.naver.com/restaurant/20709913/review/visitor?entry=pll&from=map&fromPanelNum=2&ts=1623297464681\n",
    "\n"
   ]
  }
 ],
 "metadata": {
  "kernelspec": {
   "display_name": "Python 3",
   "language": "python",
   "name": "python3"
  },
  "language_info": {
   "codemirror_mode": {
    "name": "ipython",
    "version": 3
   },
   "file_extension": ".py",
   "mimetype": "text/x-python",
   "name": "python",
   "nbconvert_exporter": "python",
   "pygments_lexer": "ipython3",
   "version": "3.7.0"
  }
 },
 "nbformat": 4,
 "nbformat_minor": 4
}

{
 "cells": [
  {
   "cell_type": "code",
   "execution_count": 15,
   "metadata": {},
   "outputs": [
    {
     "name": "stdout",
     "output_type": "stream",
     "text": [
      "훈련용 리뷰 개수 : 33049\n",
      "총 샘플의 수 : 21668\n",
      "부정 리뷰 개수 : 9164\n"
     ]
    }
   ],
   "source": [
    "import pandas as pd\n",
    "import numpy as np\n",
    "\n",
    "train_data = pd.read_table('review_data.txt')\n",
    "\n",
    "print('훈련용 리뷰 개수 :',len(train_data)) # 훈련용 리뷰 개수 출력\n",
    "train_data[:5] # 상위 5개 출력\n",
    "# df[df.A > 0]\n",
    "\n",
    "train_data['document'].nunique(), train_data['label'].nunique()\n",
    "train_data.drop_duplicates(subset=['document'], inplace=True) # document 열에서 중복인 내용이 있다면 중복 제거\n",
    "print('총 샘플의 수 :',len(train_data))\n",
    "print(\"부정 리뷰 개수 :\" , len(train_data[train_data.label == 1]))\n",
    "#id\tpoint\tdocument\tlabel\n",
    "#np.savetxt(r'np.txt', train_data.values, fmt='%s',delimiter=\"\\t\", header=\"id\\tpoint\\tdocument\\tlabel\")\n",
    "\n",
    "\n"
   ]
  },
  {
   "cell_type": "code",
   "execution_count": 10,
   "metadata": {},
   "outputs": [
    {
     "name": "stdout",
     "output_type": "stream",
     "text": [
      "훈련용 리뷰 개수 : 20271\n"
     ]
    },
    {
     "data": {
      "text/html": [
       "<div>\n",
       "<style scoped>\n",
       "    .dataframe tbody tr th:only-of-type {\n",
       "        vertical-align: middle;\n",
       "    }\n",
       "\n",
       "    .dataframe tbody tr th {\n",
       "        vertical-align: top;\n",
       "    }\n",
       "\n",
       "    .dataframe thead th {\n",
       "        text-align: right;\n",
       "    }\n",
       "</style>\n",
       "<table border=\"1\" class=\"dataframe\">\n",
       "  <thead>\n",
       "    <tr style=\"text-align: right;\">\n",
       "      <th></th>\n",
       "      <th># id</th>\n",
       "      <th>point</th>\n",
       "      <th>document</th>\n",
       "      <th>label</th>\n",
       "    </tr>\n",
       "  </thead>\n",
       "  <tbody>\n",
       "    <tr>\n",
       "      <th>0</th>\n",
       "      <td>1482646633</td>\n",
       "      <td>2.0</td>\n",
       "      <td>고기에서 냄새나요...</td>\n",
       "      <td>1.0</td>\n",
       "    </tr>\n",
       "    <tr>\n",
       "      <th>1</th>\n",
       "      <td>1482646633</td>\n",
       "      <td>5.0</td>\n",
       "      <td>기가맥힌 추어탕 맛집 김치도 맛깔나요♥</td>\n",
       "      <td>0.0</td>\n",
       "    </tr>\n",
       "    <tr>\n",
       "      <th>2</th>\n",
       "      <td>1482646633</td>\n",
       "      <td>5.0</td>\n",
       "      <td>김치도 너무 맛있어요</td>\n",
       "      <td>0.0</td>\n",
       "    </tr>\n",
       "    <tr>\n",
       "      <th>3</th>\n",
       "      <td>1482646633</td>\n",
       "      <td>5.0</td>\n",
       "      <td>여기 보쌈 진짜 최고맛있어요</td>\n",
       "      <td>0.0</td>\n",
       "    </tr>\n",
       "    <tr>\n",
       "      <th>4</th>\n",
       "      <td>1482646633</td>\n",
       "      <td>5.0</td>\n",
       "      <td>깔끔하고 맛있는 추어탕 한그릇 맛있게 잘 먹었습니다</td>\n",
       "      <td>0.0</td>\n",
       "    </tr>\n",
       "  </tbody>\n",
       "</table>\n",
       "</div>"
      ],
      "text/plain": [
       "         # id  point                      document  label\n",
       "0  1482646633    2.0                  고기에서 냄새나요...    1.0\n",
       "1  1482646633    5.0         기가맥힌 추어탕 맛집 김치도 맛깔나요♥    0.0\n",
       "2  1482646633    5.0                   김치도 너무 맛있어요    0.0\n",
       "3  1482646633    5.0               여기 보쌈 진짜 최고맛있어요    0.0\n",
       "4  1482646633    5.0  깔끔하고 맛있는 추어탕 한그릇 맛있게 잘 먹었습니다    0.0"
      ]
     },
     "execution_count": 10,
     "metadata": {},
     "output_type": "execute_result"
    }
   ],
   "source": [
    "\n",
    "train_data = pd.read_table('np.txt')\n",
    "print('훈련용 리뷰 개수 :',len(train_data)) # 훈련용 리뷰 개수 출력\n",
    "train_data[:5] # 상위 5개 출력"
   ]
  }
 ],
 "metadata": {
  "kernelspec": {
   "display_name": "Python 3",
   "language": "python",
   "name": "python3"
  },
  "language_info": {
   "codemirror_mode": {
    "name": "ipython",
    "version": 3
   },
   "file_extension": ".py",
   "mimetype": "text/x-python",
   "name": "python",
   "nbconvert_exporter": "python",
   "pygments_lexer": "ipython3",
   "version": "3.7.0"
  }
 },
 "nbformat": 4,
 "nbformat_minor": 4
}

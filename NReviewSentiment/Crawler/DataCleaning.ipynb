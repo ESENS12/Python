{
 "cells": [
  {
   "cell_type": "code",
   "execution_count": 119,
   "metadata": {},
   "outputs": [
    {
     "name": "stdout",
     "output_type": "stream",
     "text": [
      "훈련용 리뷰 개수 : 38553\n",
      "<class 'pandas.core.frame.DataFrame'>\n",
      "총 샘플의 수 : 24863\n",
      "부정 리뷰 개수 : 12359\n",
      "           id  point                      document  label\n",
      "0  1482646633    2.0                  고기에서 냄새나요...    1.0\n",
      "1  1482646633    5.0         기가맥힌 추어탕 맛집 김치도 맛깔나요♥    0.0\n",
      "4  1482646633    5.0                   김치도 너무 맛있어요    0.0\n",
      "5  1482646633    5.0               여기 보쌈 진짜 최고맛있어요    0.0\n",
      "7  1482646633    5.0  깔끔하고 맛있는 추어탕 한그릇 맛있게 잘 먹었습니다    0.0\n"
     ]
    }
   ],
   "source": [
    "import pandas as pd\n",
    "import numpy as np\n",
    "\n",
    "train_data = pd.read_table('review_data.txt')\n",
    "\n",
    "print('훈련용 리뷰 개수 :',len(train_data)) # 훈련용 리뷰 개수 출력\n",
    "\n",
    "train_data['document'].nunique()\n",
    "train_data.drop_duplicates(subset=['document'], inplace=True) # document 열에서 중복인 내용이 있다면 중복 제거\n",
    "print(type(train_data))\n",
    "print('총 샘플의 수 :',len(train_data))\n",
    "print(\"부정 리뷰 개수 :\" , len(train_data[train_data.label == 1]))\n",
    "print(train_data[:5])\n",
    "#id\tpoint\tdocument\tlabel\n",
    "np.savetxt(r'np.txt', train_data.values, fmt='%s\\t%f\\t%s\\t%f',delimiter=\"\\t\",\n",
    "           header='id\\tpoint\\tdocument\\tlabel')\n"
   ]
  },
  {
   "cell_type": "code",
   "execution_count": 97,
   "metadata": {},
   "outputs": [
    {
     "name": "stdout",
     "output_type": "stream",
     "text": [
      "전체 리뷰 개수 : 24863\n",
      "             # id  point                                           document  \\\n",
      "0      1482646633    2.0                                       고기에서 냄새나요...   \n",
      "1      1482646633    5.0                              기가맥힌 추어탕 맛집 김치도 맛깔나요♥   \n",
      "2      1482646633    5.0                                        김치도 너무 맛있어요   \n",
      "3      1482646633    5.0                                    여기 보쌈 진짜 최고맛있어요   \n",
      "4      1482646633    5.0                       깔끔하고 맛있는 추어탕 한그릇 맛있게 잘 먹었습니다   \n",
      "...           ...    ...                                                ...   \n",
      "24858  1967020590    1.0  음식은 맛있었으나 서비스부분이 불만족스럽네요. sns이벤트 하라고 테이블 위에 올려...   \n",
      "24859  1967020590    2.0           저녁 정식 먹었는데 양이 적고 맛도 평범합니다. 매운탕이 너무 짭니다.    \n",
      "24860    31174179    0.5  이런 중식당은 빨리 문 닫아야해요 지금 세상에 탕수육 고기 냄새에 미리 튀겨둔 ㅜㅜ...   \n",
      "24861    31174179    2.0                   가격은 넘 비싼데 재료나 맛은 완존 별루....ㅜ ㅜ  ㅜ   \n",
      "24862    31174179    1.0  리뷰보고찾아간건데 실망했어요.주문받으시는분 서비스엉망이고 넓고깨끗한가게를생각했는데 ...   \n",
      "\n",
      "       label  \n",
      "0        1.0  \n",
      "1        0.0  \n",
      "2        0.0  \n",
      "3        0.0  \n",
      "4        0.0  \n",
      "...      ...  \n",
      "24858    1.0  \n",
      "24859    1.0  \n",
      "24860    1.0  \n",
      "24861    1.0  \n",
      "24862    1.0  \n",
      "\n",
      "[24863 rows x 4 columns]\n"
     ]
    }
   ],
   "source": [
    "train_data = pd.read_table('np.txt',sep='\\t')\n",
    "print('전체 리뷰 개수 :',len(train_data))"
   ]
  },
  {
   "cell_type": "code",
   "execution_count": 128,
   "metadata": {},
   "outputs": [
    {
     "name": "stdout",
     "output_type": "stream",
     "text": [
      "12359\n",
      "12502\n",
      "train[positive] 갯수 : 10502\n",
      "train[negative] 갯수 : 10359\n",
      "test[positive] 갯수 : 2000\n",
      "test[negative] 갯수 : 2000\n",
      "merge_test 갯수 :  4000\n",
      "merge_train 갯수 :  20861\n"
     ]
    }
   ],
   "source": [
    "n_max_positive = 2000; #테스트셋으로 사용할 긍정리뷰 개수\n",
    "n_max_negative = 2000; #테스트셋으로 사용할 부정리뷰 개수\n",
    "\n",
    "print(len(train_data.loc[train_data['label'] > 0].values))\n",
    "print(len(train_data.loc[train_data['label'] == 0].values))\n",
    "\n",
    "neg_for_test = train_data.loc[train_data['label'] > 0][:n_max_negative]\n",
    "neg_for_train = train_data.loc[train_data['label'] > 0][n_max_negative:]\n",
    "\n",
    "pos_for_test = train_data.loc[train_data['label'] == 0][:n_max_positive]\n",
    "pos_for_train = train_data.loc[train_data['label'] == 0][n_max_positive:]\n",
    "\n",
    "print(\"train[positive] 갯수 :\", len(pos_for_train))\n",
    "print(\"train[negative] 갯수 :\", len(neg_for_train))\n",
    "\n",
    "print(\"test[positive] 갯수 :\", len(pos_for_test))\n",
    "print(\"test[negative] 갯수 :\", len(neg_for_test))\n",
    "\n",
    "merge_test = pos_for_test.append(neg_for_test)\n",
    "merge_train = pos_for_train.append(neg_for_train)\n",
    "\n",
    "print(\"merge_test 갯수 : \" , len(merge_test))\n",
    "print(\"merge_train 갯수 : \" , len(merge_train))\n",
    "\n",
    "np.savetxt(r'np_for_test.txt', merge_test.values, fmt='%s\\t%f\\t%s\\t%f',delimiter=\"\\t\",\n",
    "           header='id\\tpoint\\tdocument\\tlabel')\n",
    "\n",
    "np.savetxt(r'np_for_train.txt', merge_train.values, fmt='%s\\t%f\\t%s\\t%f',delimiter=\"\\t\",\n",
    "           header='id\\tpoint\\tdocument\\tlabel')\n"
   ]
  },
  {
   "cell_type": "code",
   "execution_count": null,
   "metadata": {},
   "outputs": [],
   "source": []
  }
 ],
 "metadata": {
  "kernelspec": {
   "display_name": "Python 3",
   "language": "python",
   "name": "python3"
  },
  "language_info": {
   "codemirror_mode": {
    "name": "ipython",
    "version": 3
   },
   "file_extension": ".py",
   "mimetype": "text/x-python",
   "name": "python",
   "nbconvert_exporter": "python",
   "pygments_lexer": "ipython3",
   "version": "3.7.0"
  }
 },
 "nbformat": 4,
 "nbformat_minor": 4
}

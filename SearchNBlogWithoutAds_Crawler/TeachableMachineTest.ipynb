{
 "cells": [
  {
   "cell_type": "code",
   "execution_count": 33,
   "metadata": {},
   "outputs": [
    {
     "name": "stdout",
     "output_type": "stream",
     "text": [
      "WARNING:tensorflow:No training configuration found in save file: the model was *not* compiled. Compile it manually.\n"
     ]
    }
   ],
   "source": [
    "import tensorflow.keras\n",
    "from PIL import Image, ImageOps\n",
    "import numpy as np\n",
    "\n",
    "# Disable scientific notation for clarity\n",
    "np.set_printoptions(suppress=True)\n",
    "\n",
    "# Load the model\n",
    "model = tensorflow.keras.models.load_model('/Users/esens/Downloads/converted_keras/keras_model.h5')\n",
    "\n",
    "data = np.ndarray(shape=(1, 224, 224, 3), dtype=np.float32)\n",
    "\n",
    "\n",
    "# display the resized image\n",
    "#image.show()\n",
    "\n"
   ]
  },
  {
   "cell_type": "code",
   "execution_count": 34,
   "metadata": {
    "scrolled": true
   },
   "outputs": [
    {
     "name": "stdout",
     "output_type": "stream",
     "text": [
      "[[0.93718886 0.06281116]]\n",
      "[0]\n"
     ]
    }
   ],
   "source": [
    "image = Image.open('/Users/esens/Python/SearchNBlogWithoutAds_Crawler/image/temp/5.jpg')\n",
    "size = (224, 224)\n",
    "image = ImageOps.fit(image, size, Image.ANTIALIAS)\n",
    "\n",
    "image_array = np.asarray(image)\n",
    "\n",
    "normalized_image_array = (image_array.astype(np.float32) / 127.0) - 1\n",
    "\n",
    "newdata = np.ndarray(shape=(1, 224, 224, 3), dtype=np.float32)\n",
    "#print(newdata[0].shape);\n",
    "\n",
    "# Load the image into the array\n",
    "newdata[0] = normalized_image_array\n",
    "\n",
    "#predictions class \n",
    "# {0 : advertise , 1: others}\n",
    "# run the inference\n",
    "prediction = model.predict(data)\n",
    "prediction_class = model.predict_classes(data)\n",
    "print(prediction)\n",
    "print(prediction_class)\n"
   ]
  }
 ],
 "metadata": {
  "kernelspec": {
   "display_name": "Python 3",
   "language": "python",
   "name": "python3"
  },
  "language_info": {
   "codemirror_mode": {
    "name": "ipython",
    "version": 3
   },
   "file_extension": ".py",
   "mimetype": "text/x-python",
   "name": "python",
   "nbconvert_exporter": "python",
   "pygments_lexer": "ipython3",
   "version": "3.7.0"
  }
 },
 "nbformat": 4,
 "nbformat_minor": 4
}

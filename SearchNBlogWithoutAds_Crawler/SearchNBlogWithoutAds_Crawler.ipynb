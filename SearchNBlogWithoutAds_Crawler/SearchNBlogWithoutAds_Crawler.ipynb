{
 "cells": [
  {
   "cell_type": "code",
   "execution_count": 1,
   "metadata": {},
   "outputs": [],
   "source": [
    "from bs4 import BeautifulSoup\n",
    "from pprint import pprint\n",
    "import requests\n",
    "import urllib.request\n"
   ]
  },
  {
   "cell_type": "code",
   "execution_count": null,
   "metadata": {},
   "outputs": [],
   "source": []
  },
  {
   "cell_type": "code",
   "execution_count": 2,
   "metadata": {},
   "outputs": [],
   "source": [
    "searchQuery = \"서울대입구역 양식\"\n",
    "searchOption = 'sim'  #sim or date  \n",
    "page = 1\n",
    "#python string template은 fstring으로 사용하자(문자열 앞에 f)\n",
    "url = f'https://search.naver.com/search.naver?query={searchQuery}&sm=tab_pge&srchby=all&st={searchOption}&where=post&start={page}'\n",
    "\n",
    "html = requests.get(url)\n",
    "\n"
   ]
  },
  {
   "cell_type": "code",
   "execution_count": 3,
   "metadata": {},
   "outputs": [
    {
     "name": "stdout",
     "output_type": "stream",
     "text": [
      "title : [서울대입구역 맛집] 스테이크 코스가 맛있는 양식집 \"모힝\" , href : https://blog.naver.com/limsh0306?Redirect=Log&logNo=221878121450\n",
      "----------------------------------\n",
      "title : 서울대입구역, 샤로수길 맛집 ; 씨앗 양식 , href : https://blog.naver.com/hyem1211?Redirect=Log&logNo=221795755284\n",
      "----------------------------------\n",
      "title : [서울대입구역 / 샤로수길 저녁] 씨앗양식 - 매콤 짭조름 퓨전음식! - 특별하지는않지만, 자극적인 맛이 중독성있는곳 , href : https://jiyoung0309.blog.me/221520894644\n",
      "----------------------------------\n",
      "title : 샤로수길 데이트코스에는 씨앗양식이 꼭 들어가야죠! 서울대입구역 점심 저녁에도 좋아요 , href : https://lovebookn.blog.me/221627416252\n",
      "----------------------------------\n",
      "title : 서울여행 ① , 여행은 역시 먹방! / 서울대입구역맛집 /양식 아열대, 분식 참새방앗간, 카페 미드레벨 , href : https://blog.naver.com/haqurl1?Redirect=Log&logNo=221685341813\n",
      "----------------------------------\n",
      "title : 서울대입구역 샤로수길 양식 맛집 기다란 , href : https://blog.naver.com/nws4249?Redirect=Log&logNo=221809888997\n",
      "----------------------------------\n",
      "title : 서울대입구역 맛집 양식,한식,중식이 한자리에~ , href : https://blog.naver.com/yuneunji09?Redirect=Log&logNo=221314910169\n",
      "----------------------------------\n",
      "title : [쏘슐랭/양식] 샤로수길, 서울대입구역 맛집 엔조 , href : https://sarah9870.blog.me/221307386057\n",
      "----------------------------------\n",
      "title : 서울대입구역 샤로수길 양식 맛집 @이층집 , href : https://nterm.blog.me/221368390050\n",
      "----------------------------------\n",
      "title : 서울대입구역 샤로수길 \"씨앗양식\" 다녀왔어요 :) , href : https://blog.naver.com/judy4883?Redirect=Log&logNo=221541523539\n",
      "----------------------------------\n"
     ]
    }
   ],
   "source": [
    "# html display, but not good using with theme(dark)\n",
    "#from IPython.core.display import display, HTML\n",
    "#display(HTML(html.text))\n",
    "\n",
    "# parsing html \n",
    "soup = BeautifulSoup(html.text, 'html.parser')\n",
    "# res = soup.find_all('li',{'class' : 'sh_blog_top'})\n",
    "# for link in soup.find_all('a'):\n",
    "# find_all(name, attrs, recursive, string, limit, **kwargs)\n",
    "# find(name, attrs, recursive, string, **kwargs)\n",
    "url_list = [];\n",
    "for li_item in soup.find_all('li',{'class' : 'sh_blog_top'}):\n",
    "    child_item = li_item.find('a',{'class' : 'sh_blog_title'})\n",
    "    title = child_item.attrs['title']\n",
    "    href = child_item.attrs['href']\n",
    "\n",
    "    #url list 저장\n",
    "    url_list.append(href)\n",
    "    \n",
    "    print(f'title : {title} , href : {href}')\n",
    "    print('----------------------------------')\n",
    "\n",
    "    "
   ]
  },
  {
   "cell_type": "code",
   "execution_count": 6,
   "metadata": {},
   "outputs": [
    {
     "name": "stdout",
     "output_type": "stream",
     "text": [
      "nickName :  limsh0306\n",
      "postNumber :  221878121450\n",
      "blogUrl :  https://m.blog.naver.com/limsh0306?Redirect=Log&logNo=221878121450\n",
      "------ digging more -------\n"
     ]
    },
    {
     "ename": "AttributeError",
     "evalue": "ResultSet object has no attribute 'length'. You're probably treating a list of elements like a single element. Did you call find_all() when you meant to call find()?",
     "output_type": "error",
     "traceback": [
      "\u001b[0;31m---------------------------------------------------------------------------\u001b[0m",
      "\u001b[0;31mAttributeError\u001b[0m                            Traceback (most recent call last)",
      "\u001b[0;32m<ipython-input-6-720c32950da7>\u001b[0m in \u001b[0;36m<module>\u001b[0;34m()\u001b[0m\n\u001b[1;32m     43\u001b[0m     \u001b[0;32mfor\u001b[0m \u001b[0mdiv_obj\u001b[0m \u001b[0;32min\u001b[0m \u001b[0mblog_image_class\u001b[0m\u001b[0;34m:\u001b[0m\u001b[0;34m\u001b[0m\u001b[0m\n\u001b[1;32m     44\u001b[0m         \u001b[0;32mfor\u001b[0m \u001b[0midx\u001b[0m\u001b[0;34m,\u001b[0m \u001b[0mimg_item\u001b[0m \u001b[0;32min\u001b[0m \u001b[0menumerate\u001b[0m\u001b[0;34m(\u001b[0m\u001b[0mdiv_obj\u001b[0m\u001b[0;34m.\u001b[0m\u001b[0mfind_all\u001b[0m\u001b[0;34m(\u001b[0m\u001b[0;34m'img'\u001b[0m\u001b[0;34m)\u001b[0m\u001b[0;34m)\u001b[0m\u001b[0;34m:\u001b[0m\u001b[0;34m\u001b[0m\u001b[0m\n\u001b[0;32m---> 45\u001b[0;31m             \u001b[0msize\u001b[0m \u001b[0;34m=\u001b[0m \u001b[0mdiv_obj\u001b[0m\u001b[0;34m.\u001b[0m\u001b[0mfind_all\u001b[0m\u001b[0;34m(\u001b[0m\u001b[0;34m'img'\u001b[0m\u001b[0;34m)\u001b[0m\u001b[0;34m.\u001b[0m\u001b[0mlength\u001b[0m\u001b[0;34m(\u001b[0m\u001b[0;34m)\u001b[0m\u001b[0;34m;\u001b[0m\u001b[0;34m\u001b[0m\u001b[0m\n\u001b[0m\u001b[1;32m     46\u001b[0m             \u001b[0mprint\u001b[0m\u001b[0;34m(\u001b[0m\u001b[0;34m'iterator size : '\u001b[0m\u001b[0;34m,\u001b[0m\u001b[0msize\u001b[0m\u001b[0;34m)\u001b[0m\u001b[0;34m;\u001b[0m\u001b[0;34m\u001b[0m\u001b[0m\n\u001b[1;32m     47\u001b[0m         \u001b[0;31m#     print(\"img_item.attrs['alt'] : \" , img_item.attrs['alt']);\u001b[0m\u001b[0;34m\u001b[0m\u001b[0;34m\u001b[0m\u001b[0m\n",
      "\u001b[0;32m~/opt/anaconda3/envs/tensorflow/lib/python3.7/site-packages/bs4/element.py\u001b[0m in \u001b[0;36m__getattr__\u001b[0;34m(self, key)\u001b[0m\n\u001b[1;32m   2159\u001b[0m         \u001b[0;34m\"\"\"Raise a helpful exception to explain a common code fix.\"\"\"\u001b[0m\u001b[0;34m\u001b[0m\u001b[0m\n\u001b[1;32m   2160\u001b[0m         raise AttributeError(\n\u001b[0;32m-> 2161\u001b[0;31m             \u001b[0;34m\"ResultSet object has no attribute '%s'. You're probably treating a list of elements like a single element. Did you call find_all() when you meant to call find()?\"\u001b[0m \u001b[0;34m%\u001b[0m \u001b[0mkey\u001b[0m\u001b[0;34m\u001b[0m\u001b[0m\n\u001b[0m\u001b[1;32m   2162\u001b[0m         )\n",
      "\u001b[0;31mAttributeError\u001b[0m: ResultSet object has no attribute 'length'. You're probably treating a list of elements like a single element. Did you call find_all() when you meant to call find()?"
     ]
    }
   ],
   "source": [
    "import os\n",
    "import urllib.parse\n",
    "\n",
    "for url_item in url_list:\n",
    "    nickName = \"\";\n",
    "    postNumber = \"\";\n",
    "    \n",
    "    # url parsing , todo : blog.me 예외처리 추가해야함\n",
    "    if(url_item.find(\"blog.me\") > 0):\n",
    "        parsing = url_item;\n",
    "        parsing = parsing.replace(\"https://\",\"\")\n",
    "        nickName = parsing.split('.')[0]\n",
    "        postNumber = parsing.split('/')[1]\n",
    "        blogUrl = \"https://m.blog.naver.com/\" + nickName + \"?Redirect=Log&logNo=\" + postNumber\n",
    "        \n",
    "    else:\n",
    "        blogUrl = url_item.replace(\"https://\", \"https://m.\");\n",
    "    \n",
    "    #https://m.blog.naver.com/soeyoung1004?Redirect=Log&logNo=221944814459\n",
    "\n",
    "    nickName = blogUrl.split('/')[-1].split('?')[0]\n",
    "    postNumber = blogUrl.split('/')[-1].split('?')[1].split('=')[-1]\n",
    "    \n",
    "    if nickName is \"\":\n",
    "        nickName = \"unknown\"\n",
    "    if postNumber is \"\":\n",
    "        postNumber = \"1\"\n",
    "        \n",
    "    print(\"nickName : \" , blogUrl.split('/')[-1].split('?')[0])\n",
    "    print(\"postNumber : \" , blogUrl.split('/')[-1].split('?')[1].split('=')[-1])\n",
    "    print(\"blogUrl : \" , blogUrl)\n",
    "\n",
    "#     if os.path.isdir(f'image/{nickName}/{postNumber}'):\n",
    "#         print(\"이미 수집한 경우에는 스킵\")\n",
    "#         continue\n",
    "        \n",
    "    print(\"------ digging more -------\")\n",
    "    #전체 목록 순회\n",
    "    blog_html = requests.get(blogUrl)\n",
    "    blog_soup = BeautifulSoup(blog_html.text, 'html.parser')\n",
    "    blog_image_class = blog_soup.find_all('div',{'class' : 'se-image'});\n",
    "    index = 0;\n",
    "    for div_obj in blog_image_class:\n",
    "        for idx, img_item in enumerate(div_obj.find_all('img')):\n",
    "            size = div_obj.find_all('img').length();\n",
    "\n",
    "        #     print(\"img_item.attrs['alt'] : \" , img_item.attrs['alt']);\n",
    "        #     if(img_item.attrs['alt'].find(\"프로필\") > 0):\n",
    "        #         print(\"this is profile\")\n",
    "        #         continue\n",
    "\n",
    "            img_url = img_item.attrs['src'];\n",
    "\n",
    "            if(img_url.find(\"w80_blur\") > 0):\n",
    "                img_url = img_url.replace(\"w80_blur\" , \"w800\")\n",
    "\n",
    "            if not os.path.isdir(f'image/{nickName}/{postNumber}'):\n",
    "                try:\n",
    "                    os.makedirs(f'image/{nickName}/{postNumber}')\n",
    "\n",
    "                except Exception as ex:\n",
    "                    print(\"error catch : \" , ex)\n",
    "            try:\n",
    "                filename = img_url.split('/')[-1].split('?')[0];\n",
    "                #print('filename ' , filename);\n",
    "#                 print('origin img_url : ' , img_url);\n",
    "                img_url2 = urllib.parse.quote_plus(str(filename))\n",
    "                #print('img_url2 : ', img_url2);\n",
    "                img_url_final = img_url.replace(img_url.split('/')[-1].split('?')[0],img_url2)\n",
    "#                 img_url = 'https://'+img_url2;\n",
    "#                 img_url = urllib.parse.quote_plus(str(img_url)) \n",
    "#                 print(f'final img_url : {img_url}'); \n",
    "#                 img_url = urllib.parse.quote_plus(img_url);\n",
    "                urllib.request.urlretrieve(img_url_final, f'image/{nickName}/{postNumber}/{index}.jpg')\n",
    "                index = index +1;\n",
    "            except Exception as ex:\n",
    "                print(\"img save error : \" , ex)\n",
    "#                 print(f'{img_url}')\n"
   ]
  },
  {
   "cell_type": "code",
   "execution_count": null,
   "metadata": {},
   "outputs": [],
   "source": []
  },
  {
   "cell_type": "code",
   "execution_count": null,
   "metadata": {},
   "outputs": [],
   "source": []
  },
  {
   "cell_type": "code",
   "execution_count": null,
   "metadata": {},
   "outputs": [],
   "source": []
  },
  {
   "cell_type": "code",
   "execution_count": null,
   "metadata": {},
   "outputs": [],
   "source": []
  },
  {
   "cell_type": "code",
   "execution_count": null,
   "metadata": {},
   "outputs": [],
   "source": []
  },
  {
   "cell_type": "code",
   "execution_count": null,
   "metadata": {},
   "outputs": [],
   "source": []
  },
  {
   "cell_type": "code",
   "execution_count": null,
   "metadata": {},
   "outputs": [],
   "source": []
  },
  {
   "cell_type": "code",
   "execution_count": null,
   "metadata": {},
   "outputs": [],
   "source": []
  },
  {
   "cell_type": "code",
   "execution_count": null,
   "metadata": {},
   "outputs": [],
   "source": []
  },
  {
   "cell_type": "code",
   "execution_count": null,
   "metadata": {},
   "outputs": [],
   "source": []
  },
  {
   "cell_type": "code",
   "execution_count": null,
   "metadata": {},
   "outputs": [],
   "source": []
  },
  {
   "cell_type": "code",
   "execution_count": null,
   "metadata": {},
   "outputs": [],
   "source": []
  },
  {
   "cell_type": "code",
   "execution_count": null,
   "metadata": {},
   "outputs": [],
   "source": []
  },
  {
   "cell_type": "code",
   "execution_count": null,
   "metadata": {},
   "outputs": [],
   "source": []
  },
  {
   "cell_type": "code",
   "execution_count": null,
   "metadata": {},
   "outputs": [],
   "source": []
  },
  {
   "cell_type": "code",
   "execution_count": null,
   "metadata": {},
   "outputs": [],
   "source": []
  },
  {
   "cell_type": "code",
   "execution_count": null,
   "metadata": {},
   "outputs": [],
   "source": []
  },
  {
   "cell_type": "code",
   "execution_count": null,
   "metadata": {},
   "outputs": [],
   "source": []
  },
  {
   "cell_type": "code",
   "execution_count": null,
   "metadata": {},
   "outputs": [],
   "source": []
  },
  {
   "cell_type": "code",
   "execution_count": null,
   "metadata": {},
   "outputs": [],
   "source": []
  },
  {
   "cell_type": "code",
   "execution_count": null,
   "metadata": {},
   "outputs": [],
   "source": []
  },
  {
   "cell_type": "code",
   "execution_count": null,
   "metadata": {},
   "outputs": [],
   "source": []
  },
  {
   "cell_type": "code",
   "execution_count": null,
   "metadata": {},
   "outputs": [],
   "source": []
  },
  {
   "cell_type": "code",
   "execution_count": null,
   "metadata": {},
   "outputs": [],
   "source": []
  },
  {
   "cell_type": "code",
   "execution_count": null,
   "metadata": {},
   "outputs": [],
   "source": []
  },
  {
   "cell_type": "code",
   "execution_count": null,
   "metadata": {},
   "outputs": [],
   "source": []
  },
  {
   "cell_type": "code",
   "execution_count": null,
   "metadata": {},
   "outputs": [],
   "source": []
  },
  {
   "cell_type": "code",
   "execution_count": null,
   "metadata": {},
   "outputs": [],
   "source": []
  },
  {
   "cell_type": "code",
   "execution_count": null,
   "metadata": {},
   "outputs": [],
   "source": []
  },
  {
   "cell_type": "code",
   "execution_count": null,
   "metadata": {},
   "outputs": [],
   "source": []
  },
  {
   "cell_type": "code",
   "execution_count": null,
   "metadata": {},
   "outputs": [],
   "source": []
  },
  {
   "cell_type": "code",
   "execution_count": null,
   "metadata": {},
   "outputs": [],
   "source": []
  },
  {
   "cell_type": "code",
   "execution_count": null,
   "metadata": {},
   "outputs": [],
   "source": []
  },
  {
   "cell_type": "code",
   "execution_count": null,
   "metadata": {},
   "outputs": [],
   "source": []
  },
  {
   "cell_type": "code",
   "execution_count": null,
   "metadata": {},
   "outputs": [],
   "source": []
  },
  {
   "cell_type": "code",
   "execution_count": null,
   "metadata": {},
   "outputs": [],
   "source": []
  },
  {
   "cell_type": "code",
   "execution_count": null,
   "metadata": {},
   "outputs": [],
   "source": []
  },
  {
   "cell_type": "code",
   "execution_count": null,
   "metadata": {},
   "outputs": [],
   "source": []
  },
  {
   "cell_type": "code",
   "execution_count": null,
   "metadata": {},
   "outputs": [],
   "source": []
  },
  {
   "cell_type": "code",
   "execution_count": null,
   "metadata": {},
   "outputs": [],
   "source": []
  },
  {
   "cell_type": "code",
   "execution_count": null,
   "metadata": {},
   "outputs": [],
   "source": [
    "\n",
    "    \n",
    "    "
   ]
  },
  {
   "cell_type": "code",
   "execution_count": null,
   "metadata": {},
   "outputs": [],
   "source": []
  },
  {
   "cell_type": "code",
   "execution_count": 5,
   "metadata": {},
   "outputs": [
    {
     "name": "stdout",
     "output_type": "stream",
     "text": [
      "Beginning file download with urllib2...\n",
      "saved image path : image/judy4883_test/221541523539/0.jpg\n",
      "saved image path : image/judy4883_test/221541523539/1.jpg\n",
      "saved image path : image/judy4883_test/221541523539/2.jpg\n",
      "saved image path : image/judy4883_test/221541523539/3.jpg\n",
      "saved image path : image/judy4883_test/221541523539/4.jpg\n",
      "saved image path : image/judy4883_test/221541523539/5.jpg\n",
      "saved image path : image/judy4883_test/221541523539/6.jpg\n",
      "saved image path : image/judy4883_test/221541523539/7.jpg\n",
      "saved image path : image/judy4883_test/221541523539/8.jpg\n",
      "saved image path : image/judy4883_test/221541523539/9.jpg\n",
      "saved image path : image/judy4883_test/221541523539/10.jpg\n",
      "saved image path : image/judy4883_test/221541523539/11.jpg\n",
      "saved image path : image/judy4883_test/221541523539/12.jpg\n",
      "saved image path : image/judy4883_test/221541523539/13.jpg\n",
      "saved image path : image/judy4883_test/221541523539/14.jpg\n",
      "saved image path : image/judy4883_test/221541523539/15.jpg\n",
      "saved image path : image/judy4883_test/221541523539/16.jpg\n",
      "saved image path : image/judy4883_test/221541523539/17.jpg\n"
     ]
    }
   ],
   "source": [
    "print('Beginning file download with urllib2...')\n",
    "#이미지다운로드 테스트용\n",
    "url = 'https://m.blog.naver.com/kangmj1992?Redirect=Log&logNo=221992971007'\n",
    "blog_html = requests.get(url)\n",
    "blog_soup = BeautifulSoup(blog_html.text, 'html.parser')\n",
    "blog_image_class = blog_soup.find_all('div',{'class' : 'se-image'});\n",
    "index = 0;\n",
    "for div_obj in blog_image_class:\n",
    "    for idx,img_item in enumerate(div_obj.find_all('img')):\n",
    "    #     print(\"img_item.attrs['alt'] : \" , img_item.attrs['alt']);\n",
    "    #     if(img_item.attrs['alt'].find(\"프로필\") > 0):\n",
    "    #         print(\"this is profile\")\n",
    "    #         continue\n",
    "\n",
    "        img_url = img_item.attrs['src'];\n",
    "\n",
    "        if(img_url.find(\"w80_blur\") > 0):\n",
    "            img_url = img_url.replace(\"w80_blur\" , \"w800\")\n",
    "#             print(img_url)\n",
    "\n",
    "        if not os.path.isdir(f'image/{nickName}_test/{postNumber}'):\n",
    "            try:\n",
    "                os.makedirs(f'image/{nickName}_test/{postNumber}')\n",
    "#                os.mkdir(f'image/{nickName}_test/{postNumber}')\n",
    "#                 Exception as ex: \n",
    "            except Exception as ex:\n",
    "                print(\"error catch : \" , ex)\n",
    "            #todo 한글 파일명 이슈 처리\n",
    "        try:\n",
    "            urllib.request.urlretrieve(img_url, f'image/{nickName}_test/{postNumber}/{index}.jpg')\n",
    "            print(f'saved image path : image/{nickName}_test/{postNumber}/{index}.jpg')\n",
    "            index = index + 1;\n",
    "        except Exception as ex:\n",
    "            print(\"img save error : \" , ex)\n",
    "            print(f'image/{nickName}/{postNumber}/{index}.jpg')"
   ]
  },
  {
   "cell_type": "code",
   "execution_count": null,
   "metadata": {},
   "outputs": [],
   "source": []
  },
  {
   "cell_type": "code",
   "execution_count": null,
   "metadata": {},
   "outputs": [],
   "source": []
  },
  {
   "cell_type": "code",
   "execution_count": null,
   "metadata": {},
   "outputs": [],
   "source": []
  },
  {
   "cell_type": "code",
   "execution_count": null,
   "metadata": {},
   "outputs": [],
   "source": []
  },
  {
   "cell_type": "code",
   "execution_count": null,
   "metadata": {},
   "outputs": [],
   "source": []
  },
  {
   "cell_type": "code",
   "execution_count": null,
   "metadata": {},
   "outputs": [],
   "source": []
  },
  {
   "cell_type": "code",
   "execution_count": null,
   "metadata": {},
   "outputs": [],
   "source": []
  },
  {
   "cell_type": "code",
   "execution_count": null,
   "metadata": {},
   "outputs": [],
   "source": []
  },
  {
   "cell_type": "code",
   "execution_count": null,
   "metadata": {},
   "outputs": [],
   "source": []
  },
  {
   "cell_type": "code",
   "execution_count": null,
   "metadata": {},
   "outputs": [],
   "source": []
  },
  {
   "cell_type": "code",
   "execution_count": null,
   "metadata": {},
   "outputs": [],
   "source": []
  },
  {
   "cell_type": "code",
   "execution_count": null,
   "metadata": {},
   "outputs": [],
   "source": []
  },
  {
   "cell_type": "code",
   "execution_count": null,
   "metadata": {},
   "outputs": [],
   "source": []
  },
  {
   "cell_type": "code",
   "execution_count": null,
   "metadata": {},
   "outputs": [],
   "source": []
  },
  {
   "cell_type": "code",
   "execution_count": null,
   "metadata": {},
   "outputs": [],
   "source": []
  },
  {
   "cell_type": "code",
   "execution_count": null,
   "metadata": {},
   "outputs": [],
   "source": []
  }
 ],
 "metadata": {
  "kernelspec": {
   "display_name": "Python 3",
   "language": "python",
   "name": "python3"
  },
  "language_info": {
   "codemirror_mode": {
    "name": "ipython",
    "version": 3
   },
   "file_extension": ".py",
   "mimetype": "text/x-python",
   "name": "python",
   "nbconvert_exporter": "python",
   "pygments_lexer": "ipython3",
   "version": "3.7.0"
  }
 },
 "nbformat": 4,
 "nbformat_minor": 4
}

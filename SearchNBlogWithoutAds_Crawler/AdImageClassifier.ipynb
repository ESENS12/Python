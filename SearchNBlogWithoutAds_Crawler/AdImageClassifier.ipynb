{
 "cells": [
  {
   "cell_type": "code",
   "execution_count": 1,
   "metadata": {},
   "outputs": [],
   "source": [
    "import tensorflow as tf\n",
    "from tensorflow.keras.models import Sequential\n",
    "from tensorflow.keras.layers import Dense, Conv2D, Flatten, Dropout, MaxPooling2D\n",
    "from tensorflow.keras.preprocessing.image import ImageDataGenerator\n",
    "\n",
    "import os\n",
    "import numpy as np\n",
    "import matplotlib.pyplot as plt\n"
   ]
  },
  {
   "cell_type": "code",
   "execution_count": 2,
   "metadata": {},
   "outputs": [],
   "source": [
    "directory = '/Users/esens/Python/SearchNBlogWithoutAds_Crawler'\n",
    "train_dir = directory+'/train'\n",
    "validation_dir = directory+'/validation'\n",
    "\n",
    "train_image_dir = os.path.join(train_dir, 'image')  \n",
    "train_advertise_dir = os.path.join(train_dir, 'advertise')  \n",
    "\n",
    "validation_image_dir = os.path.join(validation_dir, 'image')\n",
    "validation_advertise_dir = os.path.join(validation_dir, 'advertise')\n"
   ]
  },
  {
   "cell_type": "code",
   "execution_count": 3,
   "metadata": {},
   "outputs": [],
   "source": [
    "\n",
    "num_image_tr = len(os.listdir(train_image_dir))\n",
    "num_advertise_tr = len(os.listdir(train_advertise_dir))\n",
    "\n",
    "num_image_val = len(os.listdir(validation_image_dir))\n",
    "num_advertise_val = len(os.listdir(validation_advertise_dir))\n",
    "\n",
    "total_train = num_image_tr + num_advertise_tr\n",
    "total_val = num_image_val + num_advertise_val"
   ]
  },
  {
   "cell_type": "code",
   "execution_count": 4,
   "metadata": {},
   "outputs": [
    {
     "name": "stdout",
     "output_type": "stream",
     "text": [
      "total training image images: 8\n",
      "total training advertise images: 8\n",
      "num_image_tr :  8\n",
      "total validation image images: 5\n",
      "total validation advertise images: 5\n",
      "--\n",
      "Total training images: 16\n",
      "Total validation images: 10\n"
     ]
    }
   ],
   "source": [
    "print('total training image images:', num_image_tr)\n",
    "print('total training advertise images:', num_advertise_tr)\n",
    "print('num_image_tr : ' , num_image_tr);\n",
    "\n",
    "print('total validation image images:', num_image_val)\n",
    "print('total validation advertise images:', num_advertise_val)\n",
    "print(\"--\")\n",
    "print(\"Total training images:\", total_train)\n",
    "print(\"Total validation images:\", total_val)"
   ]
  },
  {
   "cell_type": "code",
   "execution_count": 5,
   "metadata": {},
   "outputs": [],
   "source": [
    "batch_size = 128\n",
    "epochs = 15\n",
    "IMG_HEIGHT = 150\n",
    "IMG_WIDTH = 150"
   ]
  },
  {
   "cell_type": "code",
   "execution_count": 6,
   "metadata": {},
   "outputs": [
    {
     "name": "stdout",
     "output_type": "stream",
     "text": [
      "Found 14 images belonging to 2 classes.\n"
     ]
    }
   ],
   "source": [
    "#for training data \n",
    "train_image_generator = ImageDataGenerator(rescale=1./255) # Generator for our training data\n",
    "train_data_gen = train_image_generator.flow_from_directory(batch_size=batch_size,\n",
    "                                                           directory=train_dir,\n",
    "                                                           shuffle=True,\n",
    "                                                           target_size=(IMG_HEIGHT, IMG_WIDTH),\n",
    "                                                           class_mode='binary')"
   ]
  },
  {
   "cell_type": "code",
   "execution_count": 7,
   "metadata": {},
   "outputs": [
    {
     "name": "stdout",
     "output_type": "stream",
     "text": [
      "Found 8 images belonging to 2 classes.\n"
     ]
    }
   ],
   "source": [
    "#for validation data \n",
    "validation_image_generator = ImageDataGenerator(rescale=1./255) # Generator for our validation data\n",
    "val_data_gen = validation_image_generator.flow_from_directory(batch_size=batch_size,\n",
    "                                                              directory=validation_dir,\n",
    "                                                              target_size=(IMG_HEIGHT, IMG_WIDTH),\n",
    "                                                              class_mode='binary')"
   ]
  },
  {
   "cell_type": "code",
   "execution_count": 8,
   "metadata": {},
   "outputs": [],
   "source": [
    "sample_training_images, _ = next(train_data_gen)"
   ]
  },
  {
   "cell_type": "code",
   "execution_count": 9,
   "metadata": {},
   "outputs": [],
   "source": [
    "def plotImages(images_arr):\n",
    "    fig, axes = plt.subplots(1, 5, figsize=(20,20))\n",
    "    axes = axes.flatten()\n",
    "    for img, ax in zip( images_arr, axes):\n",
    "        ax.imshow(img)\n",
    "        ax.axis('off')\n",
    "    plt.tight_layout()\n",
    "    plt.show()"
   ]
  },
  {
   "cell_type": "code",
   "execution_count": 10,
   "metadata": {},
   "outputs": [],
   "source": [
    "# plotImages(sample_training_images[:5])\n",
    "# create the model\n",
    "def create_model():\n",
    "    model = Sequential([\n",
    "        Conv2D(16, 3, padding='same', activation='relu', input_shape=(IMG_HEIGHT, IMG_WIDTH ,3)),\n",
    "        MaxPooling2D(),\n",
    "        Conv2D(32, 3, padding='same', activation='relu'),\n",
    "        MaxPooling2D(),\n",
    "        Conv2D(64, 3, padding='same', activation='relu'),\n",
    "        MaxPooling2D(),\n",
    "        Flatten(),\n",
    "        Dense(512, activation='relu'),\n",
    "        Dense(1)\n",
    "    ])\n",
    "    model.compile(optimizer='adam',\n",
    "              loss=tf.keras.losses.BinaryCrossentropy(from_logits=True),\n",
    "              metrics=['accuracy'])\n",
    "    return model"
   ]
  },
  {
   "cell_type": "code",
   "execution_count": 11,
   "metadata": {},
   "outputs": [
    {
     "name": "stdout",
     "output_type": "stream",
     "text": [
      "Model: \"sequential\"\n",
      "_________________________________________________________________\n",
      "Layer (type)                 Output Shape              Param #   \n",
      "=================================================================\n",
      "conv2d (Conv2D)              (None, 150, 150, 16)      448       \n",
      "_________________________________________________________________\n",
      "max_pooling2d (MaxPooling2D) (None, 75, 75, 16)        0         \n",
      "_________________________________________________________________\n",
      "conv2d_1 (Conv2D)            (None, 75, 75, 32)        4640      \n",
      "_________________________________________________________________\n",
      "max_pooling2d_1 (MaxPooling2 (None, 37, 37, 32)        0         \n",
      "_________________________________________________________________\n",
      "conv2d_2 (Conv2D)            (None, 37, 37, 64)        18496     \n",
      "_________________________________________________________________\n",
      "max_pooling2d_2 (MaxPooling2 (None, 18, 18, 64)        0         \n",
      "_________________________________________________________________\n",
      "flatten (Flatten)            (None, 20736)             0         \n",
      "_________________________________________________________________\n",
      "dense (Dense)                (None, 512)               10617344  \n",
      "_________________________________________________________________\n",
      "dense_1 (Dense)              (None, 1)                 513       \n",
      "=================================================================\n",
      "Total params: 10,641,441\n",
      "Trainable params: 10,641,441\n",
      "Non-trainable params: 0\n",
      "_________________________________________________________________\n"
     ]
    }
   ],
   "source": [
    "model = create_model();\n",
    "model.summary()"
   ]
  },
  {
   "cell_type": "code",
   "execution_count": 12,
   "metadata": {},
   "outputs": [
    {
     "name": "stdout",
     "output_type": "stream",
     "text": [
      "WARNING:tensorflow:`period` argument is deprecated. Please use `save_freq` to specify the frequency in number of samples seen.\n"
     ]
    }
   ],
   "source": [
    "# 모델 저장\n",
    "checkpoint_path = \"trained_advertise_0615/cp-{epoch:04d}.ckpt\"\n",
    "checkpoint_dir = os.path.dirname(checkpoint_path)\n",
    "\n",
    "cp_callback = tf.keras.callbacks.ModelCheckpoint(\n",
    "    checkpoint_path, verbose=1, save_weights_only=True,\n",
    "    # 15번째 에포크에서 저장\n",
    "    period=15)\n"
   ]
  },
  {
   "cell_type": "code",
   "execution_count": 13,
   "metadata": {
    "scrolled": false
   },
   "outputs": [
    {
     "data": {
      "text/plain": [
       "'trained_advertise_0615/cp-{epoch:04d}.ckpt'"
      ]
     },
     "execution_count": 13,
     "metadata": {},
     "output_type": "execute_result"
    }
   ],
   "source": [
    "checkpoint_path"
   ]
  },
  {
   "cell_type": "code",
   "execution_count": 14,
   "metadata": {},
   "outputs": [
    {
     "name": "stdout",
     "output_type": "stream",
     "text": [
      "WARNING:tensorflow:From <ipython-input-14-b160751846c2>:7: Model.fit_generator (from tensorflow.python.keras.engine.training) is deprecated and will be removed in a future version.\n",
      "Instructions for updating:\n",
      "Please use Model.fit, which supports generators.\n",
      "WARNING:tensorflow:sample_weight modes were coerced from\n",
      "  ...\n",
      "    to  \n",
      "  ['...']\n",
      "WARNING:tensorflow:sample_weight modes were coerced from\n",
      "  ...\n",
      "    to  \n",
      "  ['...']\n",
      "Train for 1 steps, validate for 1 steps\n",
      "Epoch 1/15\n",
      "1/1 [==============================] - 1s 705ms/step - loss: 0.6991 - accuracy: 0.5000 - val_loss: 1.6410 - val_accuracy: 0.5000\n",
      "Epoch 2/15\n",
      "1/1 [==============================] - 0s 277ms/step - loss: 1.2786 - accuracy: 0.5000 - val_loss: 1.7611 - val_accuracy: 0.5000\n",
      "Epoch 3/15\n",
      "1/1 [==============================] - 0s 287ms/step - loss: 1.3659 - accuracy: 0.6429 - val_loss: 0.9644 - val_accuracy: 0.5000\n",
      "Epoch 4/15\n",
      "1/1 [==============================] - 0s 302ms/step - loss: 0.6838 - accuracy: 0.6429 - val_loss: 0.5747 - val_accuracy: 0.8750\n",
      "Epoch 5/15\n",
      "1/1 [==============================] - 0s 275ms/step - loss: 0.3823 - accuracy: 1.0000 - val_loss: 0.5605 - val_accuracy: 0.5000\n",
      "Epoch 6/15\n",
      "1/1 [==============================] - 0s 292ms/step - loss: 0.3513 - accuracy: 0.7143 - val_loss: 0.4670 - val_accuracy: 0.7500\n",
      "Epoch 7/15\n",
      "1/1 [==============================] - 0s 282ms/step - loss: 0.2492 - accuracy: 0.9286 - val_loss: 0.5605 - val_accuracy: 0.8750\n",
      "Epoch 8/15\n",
      "1/1 [==============================] - 0s 286ms/step - loss: 0.2119 - accuracy: 1.0000 - val_loss: 0.4918 - val_accuracy: 0.8750\n",
      "Epoch 9/15\n",
      "1/1 [==============================] - 0s 280ms/step - loss: 0.1208 - accuracy: 1.0000 - val_loss: 0.3450 - val_accuracy: 0.8750\n",
      "Epoch 10/15\n",
      "1/1 [==============================] - 0s 272ms/step - loss: 0.0506 - accuracy: 1.0000 - val_loss: 0.2568 - val_accuracy: 0.8750\n",
      "Epoch 11/15\n",
      "1/1 [==============================] - 0s 270ms/step - loss: 0.0215 - accuracy: 1.0000 - val_loss: 0.2326 - val_accuracy: 0.8750\n",
      "Epoch 12/15\n",
      "1/1 [==============================] - 0s 268ms/step - loss: 0.0092 - accuracy: 1.0000 - val_loss: 0.2691 - val_accuracy: 0.8750\n",
      "Epoch 13/15\n",
      "1/1 [==============================] - 0s 265ms/step - loss: 0.0042 - accuracy: 1.0000 - val_loss: 0.3489 - val_accuracy: 0.8750\n",
      "Epoch 14/15\n",
      "1/1 [==============================] - 0s 267ms/step - loss: 0.0021 - accuracy: 1.0000 - val_loss: 0.4341 - val_accuracy: 0.8750\n",
      "Epoch 15/15\n",
      "\n",
      "Epoch 00015: saving model to trained_advertise_0615/cp-0015.ckpt\n",
      "1/1 [==============================] - 1s 776ms/step - loss: 0.0011 - accuracy: 1.0000 - val_loss: 0.5069 - val_accuracy: 0.8750\n"
     ]
    }
   ],
   "source": [
    "history = model.fit_generator(\n",
    "    train_data_gen,\n",
    "    steps_per_epoch=total_train // batch_size,\n",
    "    epochs=epochs,\n",
    "    callbacks =[cp_callback],\n",
    "    validation_data=val_data_gen,\n",
    "    validation_steps=total_val // batch_size\n",
    ")"
   ]
  },
  {
   "cell_type": "code",
   "execution_count": 15,
   "metadata": {
    "collapsed": true
   },
   "outputs": [
    {
     "name": "stdout",
     "output_type": "stream",
     "text": [
      "checkpoint                       cp-0015.ckpt.index\r\n",
      "cp-0015.ckpt.data-00000-of-00001\r\n"
     ]
    },
    {
     "data": {
      "image/png": "[encoded data removed]",
      "text/plain": [
       "<Figure size 576x576 with 2 Axes>"
      ]
     },
     "metadata": {
      "needs_background": "light"
     },
     "output_type": "display_data"
    }
   ],
   "source": [
    "! ls {checkpoint_dir}\n",
    "acc = history.history['accuracy']\n",
    "val_acc = history.history['val_accuracy']\n",
    "\n",
    "loss=history.history['loss']\n",
    "val_loss=history.history['val_loss']\n",
    "\n",
    "epochs_range = range(epochs)\n",
    "\n",
    "plt.figure(figsize=(8, 8))\n",
    "plt.subplot(1, 2, 1)\n",
    "plt.plot(epochs_range, acc, label='Training Accuracy')\n",
    "plt.plot(epochs_range, val_acc, label='Validation Accuracy')\n",
    "plt.legend(loc='lower right')\n",
    "plt.title('Training and Validation Accuracy')\n",
    "\n",
    "plt.subplot(1, 2, 2)\n",
    "plt.plot(epochs_range, loss, label='Training Loss')\n",
    "plt.plot(epochs_range, val_loss, label='Validation Loss')\n",
    "plt.legend(loc='upper right')\n",
    "plt.title('Training and Validation Loss')\n",
    "plt.show()"
   ]
  },
  {
   "cell_type": "code",
   "execution_count": 16,
   "metadata": {},
   "outputs": [
    {
     "name": "stdout",
     "output_type": "stream",
     "text": [
      "Found 8 images belonging to 2 classes.\n",
      "test_data_gen :  <keras_preprocessing.image.directory_iterator.DirectoryIterator object at 0x1087e76d8>\n",
      "[0 0 0 0 1 1 1 1]\n"
     ]
    }
   ],
   "source": [
    "PATH =directory + \"/test\"\n",
    "\n",
    "test_image_generator = tf.keras.preprocessing.image.ImageDataGenerator(rescale=1./255)\n",
    "test_data_gen = test_image_generator.flow_from_directory(directory=str(PATH),\n",
    "                                                batch_size=batch_size,\n",
    "                                                target_size=(IMG_HEIGHT, IMG_WIDTH),\n",
    "                                                class_mode='binary')\n",
    "print(\"test_data_gen : \" , test_data_gen)\n",
    "print(test_data_gen.labels)"
   ]
  },
  {
   "cell_type": "code",
   "execution_count": 19,
   "metadata": {},
   "outputs": [
    {
     "name": "stdout",
     "output_type": "stream",
     "text": [
      "trained_advertise_0615/cp-0015.ckpt\n"
     ]
    },
    {
     "data": {
      "text/plain": [
       "<tensorflow.python.training.tracking.util.CheckpointLoadStatus at 0x1094d6978>"
      ]
     },
     "execution_count": 19,
     "metadata": {},
     "output_type": "execute_result"
    }
   ],
   "source": [
    "latest = tf.train.latest_checkpoint(checkpoint_dir)\n",
    "print(latest)\n",
    "\n",
    "# create model\n",
    "model = create_model()\n",
    "model.load_weights(latest)"
   ]
  },
  {
   "cell_type": "code",
   "execution_count": 20,
   "metadata": {},
   "outputs": [
    {
     "name": "stdout",
     "output_type": "stream",
     "text": [
      "========pridiction========\n",
      "{'advertise': 0, 'image': 1}\n",
      "predictions class :  [[1]]\n"
     ]
    }
   ],
   "source": [
    "my_img_path = directory + \"/test/i/4.jpg\"\n",
    "image = tf.keras.preprocessing.image.load_img(my_img_path,target_size=(150, 150))\n",
    "\n",
    "input_arr = tf.keras.preprocessing.image.img_to_array(image)\n",
    "input_arr = np.array([input_arr])  # Convert single image to a batch.\n",
    "\n",
    "#print(\"model shape : \" , model.summary());\n",
    "# print(\"input_arr : \", input_arr)\n",
    "\n",
    "predictions_class = model.predict_classes(input_arr)\n",
    "predictions = model.predict(input_arr)\n",
    "\n",
    "print(\"========pridiction========\")\n",
    "print(test_data_gen.class_indices)\n",
    "print(\"predictions class : \" , predictions_class);\n",
    "#print(\"predictions argmax : \",np.argmax(predictions[0])); # same way\n"
   ]
  },
  {
   "cell_type": "code",
   "execution_count": null,
   "metadata": {},
   "outputs": [],
   "source": []
  }
 ],
 "metadata": {
  "kernelspec": {
   "display_name": "Python 3",
   "language": "python",
   "name": "python3"
  },
  "language_info": {
   "codemirror_mode": {
    "name": "ipython",
    "version": 3
   },
   "file_extension": ".py",
   "mimetype": "text/x-python",
   "name": "python",
   "nbconvert_exporter": "python",
   "pygments_lexer": "ipython3",
   "version": "3.7.0"
  }
 },
 "nbformat": 4,
 "nbformat_minor": 4
}

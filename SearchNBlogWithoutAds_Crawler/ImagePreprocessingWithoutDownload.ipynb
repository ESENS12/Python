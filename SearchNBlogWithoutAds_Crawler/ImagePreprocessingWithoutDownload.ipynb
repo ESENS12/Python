{
 "cells": [
  {
   "cell_type": "code",
   "execution_count": 25,
   "metadata": {},
   "outputs": [],
   "source": [
    "import urllib\n",
    "from PIL import ImageFile\n",
    "import urllib\n",
    "import struct\n",
    "import numpy as np\n",
    "from numpy import asarray\n",
    "from array import array\n",
    "import pandas as pd\n",
    "\n",
    "IMG_URL = \"https://mblogthumb-phinf.pstatic.net/MjAyMDA2MDNfMjc1/MDAxNTkxMTc3NzMwOTcz._afrEDZevZpW09nyuuZ7mMcGLFBv4TVXF7lLe6mLoL8g.i1VeQRb65oJwFp7zewx64Yk5fuAgUBJrDcCpeipiaJQg.JPEG.forurwinter/1.JPG?type=w800\""
   ]
  },
  {
   "cell_type": "code",
   "execution_count": 64,
   "metadata": {},
   "outputs": [
    {
     "name": "stdout",
     "output_type": "stream",
     "text": [
      "(1, 1, 27456)\n"
     ]
    },
    {
     "ename": "TypeError",
     "evalue": "only integer scalar arrays can be converted to a scalar index",
     "output_type": "error",
     "traceback": [
      "\u001b[0;31m---------------------------------------------------------------------------\u001b[0m",
      "\u001b[0;31mTypeError\u001b[0m                                 Traceback (most recent call last)",
      "\u001b[0;32m<ipython-input-64-f3655b7efe8b>\u001b[0m in \u001b[0;36m<module>\u001b[0;34m()\u001b[0m\n\u001b[1;32m     31\u001b[0m \u001b[0;31m# reshape_data = flat_dat.reshape(data,(224,224,3))\u001b[0m\u001b[0;34m\u001b[0m\u001b[0;34m\u001b[0m\u001b[0m\n\u001b[1;32m     32\u001b[0m \u001b[0;31m# reshape_data = flat_dat.reshape(expands2, (expands2[0], 1, expands2.shape[1]))\u001b[0m\u001b[0;34m\u001b[0m\u001b[0;34m\u001b[0m\u001b[0m\n\u001b[0;32m---> 33\u001b[0;31m \u001b[0mreshape_data\u001b[0m \u001b[0;34m=\u001b[0m \u001b[0mflat_dat\u001b[0m\u001b[0;34m.\u001b[0m\u001b[0mreshape\u001b[0m\u001b[0;34m(\u001b[0m\u001b[0mexpands2\u001b[0m\u001b[0;34m,\u001b[0m \u001b[0;34m(\u001b[0m\u001b[0;36m224\u001b[0m\u001b[0;34m,\u001b[0m\u001b[0;36m224\u001b[0m\u001b[0;34m,\u001b[0m\u001b[0;36m3\u001b[0m\u001b[0;34m)\u001b[0m\u001b[0;34m)\u001b[0m\u001b[0;34m\u001b[0m\u001b[0m\n\u001b[0m\u001b[1;32m     34\u001b[0m \u001b[0mprint\u001b[0m\u001b[0;34m(\u001b[0m\u001b[0;34m\"shape:\"\u001b[0m\u001b[0;34m,\u001b[0m\u001b[0mreshape_data\u001b[0m\u001b[0;34m.\u001b[0m\u001b[0mshape\u001b[0m\u001b[0;34m)\u001b[0m\u001b[0;34m\u001b[0m\u001b[0m\n\u001b[1;32m     35\u001b[0m \u001b[0;34m\u001b[0m\u001b[0m\n",
      "\u001b[0;31mTypeError\u001b[0m: only integer scalar arrays can be converted to a scalar index"
     ]
    }
   ],
   "source": [
    "def conv_img_to_npArr(uri):\n",
    "\n",
    "    file = urllib.request.urlopen(uri)\n",
    "    file2 = urllib.request.urlopen(uri)\n",
    "    # todo image size chekc(division 8 or something..)\n",
    "    # todo str_bytes reshape\n",
    "    file_size = int(file.info()[\"Content-Length\"])\n",
    "    \n",
    "    mod_res = int(file_size) % 32;\n",
    "    \n",
    "    file_size = file_size - mod_res;\n",
    "    str_bytes = file.read(file_size);\n",
    "    \n",
    "    # todo float to byte and make file(img) for check\n",
    "    \n",
    "#     print(np.frombuffer(str_bytes, dtype= np.float32))\n",
    "    return np.frombuffer(str_bytes, dtype= np.float32)\n",
    "\n",
    "data = conv_img_to_npArr(IMG_URL);\n",
    "# img_tensor /= 255.\n",
    "img_tensor = np.expand_dims(data,axis=0)\n",
    "flat_dat = data.flatten()\n",
    "# flat_dat /= 255.\n",
    "expands = np.expand_dims(flat_dat, axis=0)\n",
    "expands2 = np.expand_dims(expands, axis=0)\n",
    "print(expands2.shape)\n",
    "# print(\"flat_dat shape :\",flat_dat.shape)\n",
    "\n",
    "# flat_dat /= 255.\n",
    "# print(flat_dat)\n",
    "# reshape_data = flat_dat.reshape(data,(224,224,3))\n",
    "# reshape_data = flat_dat.reshape(expands2, (expands2[0], 1, expands2.shape[1]))\n",
    "reshape_data = flat_dat.reshape(expands2, (224,224,3))\n",
    "print(\"shape:\",reshape_data.shape)\n",
    "\n",
    "#DataFrame = pd.DataFrame(data);\n",
    "#print(type(data))\n",
    "#print(DataFrame)\n",
    "\n",
    "\n"
   ]
  },
  {
   "cell_type": "code",
   "execution_count": null,
   "metadata": {},
   "outputs": [],
   "source": []
  }
 ],
 "metadata": {
  "kernelspec": {
   "display_name": "Python 3",
   "language": "python",
   "name": "python3"
  },
  "language_info": {
   "codemirror_mode": {
    "name": "ipython",
    "version": 3
   },
   "file_extension": ".py",
   "mimetype": "text/x-python",
   "name": "python",
   "nbconvert_exporter": "python",
   "pygments_lexer": "ipython3",
   "version": "3.7.0"
  }
 },
 "nbformat": 4,
 "nbformat_minor": 4
}

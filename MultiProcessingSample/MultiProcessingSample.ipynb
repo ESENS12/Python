{
 "cells": [
  {
   "cell_type": "code",
   "execution_count": 4,
   "metadata": {},
   "outputs": [],
   "source": [
    "from threading import Thread\n",
    "import time"
   ]
  },
  {
   "cell_type": "code",
   "execution_count": 12,
   "metadata": {},
   "outputs": [
    {
     "name": "stdout",
     "output_type": "stream",
     "text": [
      "Result: 4999999950000000\n",
      "---5.70s seconds---\n"
     ]
    }
   ],
   "source": [
    "def work(id, start, end, result):\n",
    "    total = 0\n",
    "    for i in range(start, end):\n",
    "        total += i\n",
    "    result.append(total)\n",
    "    return\n",
    "\n",
    "if __name__ == \"__main__\":\n",
    "    START, END = 0, 100000000\n",
    "    result = list()\n",
    "    th1 = Thread(target=work, args=(1, START, END, result))\n",
    "    start_time = time.time();    \n",
    "    th1.start()\n",
    "    th1.join()\n",
    "\n",
    "print(f\"Result: {sum(result)}\")\n",
    "print(\"---{0:.2f}s seconds---\".format(time.time()-start_time))\n"
   ]
  },
  {
   "cell_type": "code",
   "execution_count": 13,
   "metadata": {},
   "outputs": [
    {
     "name": "stdout",
     "output_type": "stream",
     "text": [
      "Result: 4999999950000000\n",
      "---5.48s seconds---\n"
     ]
    }
   ],
   "source": [
    "START, END = 0, 100000000\n",
    "result = list()\n",
    "th1 = Thread(target=work, args=(1, START, END//2, result))\n",
    "th2 = Thread(target=work, args=(2, END//2, END, result))\n",
    "start_time = time.time();\n",
    "th1.start()\n",
    "th2.start()\n",
    "th1.join()\n",
    "th2.join()\n",
    "print(f\"Result: {sum(result)}\")\n",
    "print(\"---{0:.2f}s seconds---\".format(time.time()-start_time))\n"
   ]
  },
  {
   "cell_type": "code",
   "execution_count": 9,
   "metadata": {},
   "outputs": [],
   "source": [
    "#GIL(Global Interpreter Lock) 때문에 실행차이가 크지 않음.(하나의 쓰레드로 작업하는것과 다르지 않음)"
   ]
  },
  {
   "cell_type": "code",
   "execution_count": 10,
   "metadata": {},
   "outputs": [],
   "source": [
    "from multiprocessing import Process, Queue\n"
   ]
  },
  {
   "cell_type": "code",
   "execution_count": 14,
   "metadata": {},
   "outputs": [
    {
     "name": "stdout",
     "output_type": "stream",
     "text": [
      "Result: 4999999950000000\n",
      "---2.71s seconds---\n"
     ]
    }
   ],
   "source": [
    "def work(id, start, end, result):\n",
    "    total = 0\n",
    "    for i in range(start, end):\n",
    "        total += i\n",
    "    result.put(total)\n",
    "    return\n",
    "\n",
    "if __name__ == \"__main__\":\n",
    "    START, END = 0, 100000000\n",
    "    result = Queue()\n",
    "    th1 = Process(target=work, args=(1, START, END//2, result))\n",
    "    th2 = Process(target=work, args=(2, END//2, END, result))\n",
    "    \n",
    "    start_time = time.time();\n",
    "\n",
    "    th1.start()\n",
    "    th2.start()\n",
    "    th1.join()\n",
    "    th2.join()\n",
    "\n",
    "    result.put('STOP')\n",
    "    total = 0\n",
    "    while True:\n",
    "        tmp = result.get()\n",
    "        if tmp == 'STOP':\n",
    "            break\n",
    "        else:\n",
    "            total += tmp\n",
    "            \n",
    "    print(f\"Result: {total}\")\n",
    "    print(\"---{0:.2f}s seconds---\".format(time.time()-start_time))"
   ]
  }
 ],
 "metadata": {
  "kernelspec": {
   "display_name": "Python 3",
   "language": "python",
   "name": "python3"
  },
  "language_info": {
   "codemirror_mode": {
    "name": "ipython",
    "version": 3
   },
   "file_extension": ".py",
   "mimetype": "text/x-python",
   "name": "python",
   "nbconvert_exporter": "python",
   "pygments_lexer": "ipython3",
   "version": "3.7.0"
  }
 },
 "nbformat": 4,
 "nbformat_minor": 4
}
